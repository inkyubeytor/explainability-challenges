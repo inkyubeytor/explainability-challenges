{
 "cells": [
  {
   "cell_type": "code",
   "execution_count": 26,
   "metadata": {
    "collapsed": true
   },
   "outputs": [],
   "source": [
    "from explainability.structured.core.structured_challenger import SKChallenger\n",
    "from explainability.structured.samples.challengers.categorize_challenger import CategorizeChallenger\n",
    "import pandas as pd\n",
    "from sklearn.tree import DecisionTreeClassifier, plot_tree"
   ]
  },
  {
   "cell_type": "code",
   "execution_count": 36,
   "outputs": [],
   "source": [
    "# Load adult income dataset, 100 rows\n",
    "df = pd.read_csv(\"https://archive.ics.uci.edu/ml/machine-learning-databases/adult/adult.data\", header=None, nrows=1000)\n",
    "df.columns = [\n",
    "    \"Age\", \"WorkClass\", \"fnlwgt\", \"Education\", \"EducationNum\",\n",
    "    \"MaritalStatus\", \"Occupation\", \"Relationship\", \"Race\", \"Gender\",\n",
    "    \"CapitalGain\", \"CapitalLoss\", \"HoursPerWeek\", \"NativeCountry\",\n",
    "    \"Income\"\n",
    "]\n",
    "df.drop([\n",
    "    \"fnlwgt\", \"EducationNum\",\n",
    "    \"MaritalStatus\", \"Occupation\", \"Relationship\", \"Race\",\n",
    "    \"NativeCountry\"\n",
    "], axis=1, inplace=True)\n",
    "label_column = \"Income\""
   ],
   "metadata": {
    "collapsed": false
   }
  },
  {
   "cell_type": "code",
   "execution_count": 37,
   "outputs": [],
   "source": [
    "# Define our base scikit-learn model\n",
    "model = DecisionTreeClassifier(max_depth=3)"
   ],
   "metadata": {
    "collapsed": false
   }
  },
  {
   "cell_type": "markdown",
   "source": [
    "# Sample Challenger"
   ],
   "metadata": {
    "collapsed": false
   }
  },
  {
   "cell_type": "code",
   "execution_count": 38,
   "outputs": [],
   "source": [
    "cc = CategorizeChallenger(DecisionTreeClassifier(max_depth=3),\n",
    "                          df, label_column)"
   ],
   "metadata": {
    "collapsed": false
   }
  },
  {
   "cell_type": "code",
   "execution_count": 39,
   "outputs": [],
   "source": [
    "# creates multiple structured manipulators, one for each predefined challenge\n",
    "cc.generate_challenges()"
   ],
   "metadata": {
    "collapsed": false
   }
  },
  {
   "cell_type": "code",
   "execution_count": 40,
   "outputs": [
    {
     "data": {
      "text/plain": "   Age WorkClass      Education   Gender  CapitalGain  CapitalLoss   \n0   52         ?           12th     Male          594            0  \\\n1   29   Private        HS-grad     Male            0            0   \n2   44   Private        HS-grad   Female            0            0   \n3   37   Private      Bachelors     Male            0            0   \n4   33   Private   Some-college   Female            0            0   \n\n   HoursPerWeek  Income  \n0            40   <=50K  \n1            40   <=50K  \n2            40   <=50K  \n3            60    >50K  \n4            40   <=50K  ",
      "text/html": "<div>\n<style scoped>\n    .dataframe tbody tr th:only-of-type {\n        vertical-align: middle;\n    }\n\n    .dataframe tbody tr th {\n        vertical-align: top;\n    }\n\n    .dataframe thead th {\n        text-align: right;\n    }\n</style>\n<table border=\"1\" class=\"dataframe\">\n  <thead>\n    <tr style=\"text-align: right;\">\n      <th></th>\n      <th>Age</th>\n      <th>WorkClass</th>\n      <th>Education</th>\n      <th>Gender</th>\n      <th>CapitalGain</th>\n      <th>CapitalLoss</th>\n      <th>HoursPerWeek</th>\n      <th>Income</th>\n    </tr>\n  </thead>\n  <tbody>\n    <tr>\n      <th>0</th>\n      <td>52</td>\n      <td>?</td>\n      <td>12th</td>\n      <td>Male</td>\n      <td>594</td>\n      <td>0</td>\n      <td>40</td>\n      <td>&lt;=50K</td>\n    </tr>\n    <tr>\n      <th>1</th>\n      <td>29</td>\n      <td>Private</td>\n      <td>HS-grad</td>\n      <td>Male</td>\n      <td>0</td>\n      <td>0</td>\n      <td>40</td>\n      <td>&lt;=50K</td>\n    </tr>\n    <tr>\n      <th>2</th>\n      <td>44</td>\n      <td>Private</td>\n      <td>HS-grad</td>\n      <td>Female</td>\n      <td>0</td>\n      <td>0</td>\n      <td>40</td>\n      <td>&lt;=50K</td>\n    </tr>\n    <tr>\n      <th>3</th>\n      <td>37</td>\n      <td>Private</td>\n      <td>Bachelors</td>\n      <td>Male</td>\n      <td>0</td>\n      <td>0</td>\n      <td>60</td>\n      <td>&gt;50K</td>\n    </tr>\n    <tr>\n      <th>4</th>\n      <td>33</td>\n      <td>Private</td>\n      <td>Some-college</td>\n      <td>Female</td>\n      <td>0</td>\n      <td>0</td>\n      <td>40</td>\n      <td>&lt;=50K</td>\n    </tr>\n  </tbody>\n</table>\n</div>"
     },
     "execution_count": 40,
     "metadata": {},
     "output_type": "execute_result"
    }
   ],
   "source": [
    "# base contains the original dataset, which is always included in a challenge\n",
    "cc.challenges[\"base\"].df.head()"
   ],
   "metadata": {
    "collapsed": false
   }
  },
  {
   "cell_type": "code",
   "execution_count": 41,
   "outputs": [
    {
     "data": {
      "text/plain": "   Age      WorkClass   Education   Gender  CapitalGain  CapitalLoss   \n0   23        Private     HS-grad   Female            0            0  \\\n1   24   Self-emp-inc   Bachelors     Male            0            0   \n2   24        Private     HS-grad     Male            0            0   \n3   23        Private     HS-grad     Male            0            0   \n4   28        Private     HS-grad     Male            0            0   \n\n       HoursPerWeek  Income  \n0  (33.667, 66.333]   <=50K  \n1  (33.667, 66.333]   <=50K  \n2  (33.667, 66.333]   <=50K  \n3  (33.667, 66.333]   <=50K  \n4  (33.667, 66.333]   <=50K  ",
      "text/html": "<div>\n<style scoped>\n    .dataframe tbody tr th:only-of-type {\n        vertical-align: middle;\n    }\n\n    .dataframe tbody tr th {\n        vertical-align: top;\n    }\n\n    .dataframe thead th {\n        text-align: right;\n    }\n</style>\n<table border=\"1\" class=\"dataframe\">\n  <thead>\n    <tr style=\"text-align: right;\">\n      <th></th>\n      <th>Age</th>\n      <th>WorkClass</th>\n      <th>Education</th>\n      <th>Gender</th>\n      <th>CapitalGain</th>\n      <th>CapitalLoss</th>\n      <th>HoursPerWeek</th>\n      <th>Income</th>\n    </tr>\n  </thead>\n  <tbody>\n    <tr>\n      <th>0</th>\n      <td>23</td>\n      <td>Private</td>\n      <td>HS-grad</td>\n      <td>Female</td>\n      <td>0</td>\n      <td>0</td>\n      <td>(33.667, 66.333]</td>\n      <td>&lt;=50K</td>\n    </tr>\n    <tr>\n      <th>1</th>\n      <td>24</td>\n      <td>Self-emp-inc</td>\n      <td>Bachelors</td>\n      <td>Male</td>\n      <td>0</td>\n      <td>0</td>\n      <td>(33.667, 66.333]</td>\n      <td>&lt;=50K</td>\n    </tr>\n    <tr>\n      <th>2</th>\n      <td>24</td>\n      <td>Private</td>\n      <td>HS-grad</td>\n      <td>Male</td>\n      <td>0</td>\n      <td>0</td>\n      <td>(33.667, 66.333]</td>\n      <td>&lt;=50K</td>\n    </tr>\n    <tr>\n      <th>3</th>\n      <td>23</td>\n      <td>Private</td>\n      <td>HS-grad</td>\n      <td>Male</td>\n      <td>0</td>\n      <td>0</td>\n      <td>(33.667, 66.333]</td>\n      <td>&lt;=50K</td>\n    </tr>\n    <tr>\n      <th>4</th>\n      <td>28</td>\n      <td>Private</td>\n      <td>HS-grad</td>\n      <td>Male</td>\n      <td>0</td>\n      <td>0</td>\n      <td>(33.667, 66.333]</td>\n      <td>&lt;=50K</td>\n    </tr>\n  </tbody>\n</table>\n</div>"
     },
     "execution_count": 41,
     "metadata": {},
     "output_type": "execute_result"
    }
   ],
   "source": [
    "# an example of a challenge dataset\n",
    "cc.challenges[\"challenge_2\"].df.head()"
   ],
   "metadata": {
    "collapsed": false
   }
  },
  {
   "cell_type": "code",
   "execution_count": 42,
   "outputs": [],
   "source": [
    "# trains one of our models for each challenge\n",
    "cc.train_models()"
   ],
   "metadata": {
    "collapsed": false
   }
  },
  {
   "cell_type": "code",
   "execution_count": 44,
   "outputs": [
    {
     "data": {
      "text/plain": "0.82"
     },
     "execution_count": 44,
     "metadata": {},
     "output_type": "execute_result"
    }
   ],
   "source": [
    "# Evaluate base model\n",
    "X_train, y_train, X_test, y_test = cc.challenges[\"base\"].train_test_split()\n",
    "cc.models[\"base\"].score(X_test, y_test)"
   ],
   "metadata": {
    "collapsed": false
   }
  },
  {
   "cell_type": "code",
   "execution_count": 45,
   "outputs": [
    {
     "data": {
      "text/plain": "0.845"
     },
     "execution_count": 45,
     "metadata": {},
     "output_type": "execute_result"
    }
   ],
   "source": [
    "# Evaluate a challenge model\n",
    "_, _, X_test, y_test = cc.challenges[\"challenge_2\"].train_test_split()\n",
    "cc.models[\"challenge_2\"].score(X_test, y_test)"
   ],
   "metadata": {
    "collapsed": false
   }
  },
  {
   "cell_type": "markdown",
   "source": [
    "# Custom Challenger"
   ],
   "metadata": {
    "collapsed": false
   }
  },
  {
   "cell_type": "markdown",
   "source": [],
   "metadata": {
    "collapsed": false
   }
  }
 ],
 "metadata": {
  "kernelspec": {
   "display_name": "Python 3",
   "language": "python",
   "name": "python3"
  },
  "language_info": {
   "codemirror_mode": {
    "name": "ipython",
    "version": 2
   },
   "file_extension": ".py",
   "mimetype": "text/x-python",
   "name": "python",
   "nbconvert_exporter": "python",
   "pygments_lexer": "ipython2",
   "version": "2.7.6"
  }
 },
 "nbformat": 4,
 "nbformat_minor": 0
}
