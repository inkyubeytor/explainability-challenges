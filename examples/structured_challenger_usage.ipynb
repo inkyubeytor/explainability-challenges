{
 "cells": [
  {
   "cell_type": "code",
   "execution_count": 27,
   "metadata": {
    "collapsed": true
   },
   "outputs": [],
   "source": [
    "from explainability.structured.core.structured_challenger import SKChallenger\n",
    "from explainability.structured.core.structured_manipulator import StructuredManipulator\n",
    "from explainability.structured.samples.challengers.categorize_challenger import CategorizeChallenger\n",
    "import pandas as pd\n",
    "from sklearn.tree import DecisionTreeClassifier\n",
    "from interpret.blackbox import ShapKernel"
   ]
  },
  {
   "cell_type": "code",
   "execution_count": 2,
   "metadata": {},
   "outputs": [],
   "source": [
    "# Load adult income dataset, 100 rows\n",
    "df = pd.read_csv(\"https://archive.ics.uci.edu/ml/machine-learning-databases/adult/adult.data\", header=None, nrows=1000)\n",
    "df.columns = [\n",
    "    \"Age\", \"WorkClass\", \"fnlwgt\", \"Education\", \"EducationNum\",\n",
    "    \"MaritalStatus\", \"Occupation\", \"Relationship\", \"Race\", \"Gender\",\n",
    "    \"CapitalGain\", \"CapitalLoss\", \"HoursPerWeek\", \"NativeCountry\",\n",
    "    \"Income\"\n",
    "]\n",
    "df.drop([\n",
    "    \"fnlwgt\", \"EducationNum\",\n",
    "    \"MaritalStatus\", \"Occupation\", \"Relationship\", \"Race\",\n",
    "    \"NativeCountry\"\n",
    "], axis=1, inplace=True)\n",
    "label_column = \"Income\""
   ]
  },
  {
   "cell_type": "markdown",
   "metadata": {},
   "source": [
    "# Sample Challenger"
   ]
  },
  {
   "cell_type": "code",
   "execution_count": 4,
   "metadata": {},
   "outputs": [],
   "source": [
    "# challenger that creates three challenge, each randomly choosing a numeric column to bin\n",
    "cc = CategorizeChallenger(DecisionTreeClassifier(max_depth=3),\n",
    "                          df, label_column)"
   ]
  },
  {
   "cell_type": "code",
   "execution_count": 5,
   "metadata": {},
   "outputs": [],
   "source": [
    "# creates multiple structured manipulators, one for each predefined challenge\n",
    "cc.generate_challenges()"
   ]
  },
  {
   "cell_type": "code",
   "execution_count": 6,
   "metadata": {},
   "outputs": [
    {
     "data": {
      "text/html": [
       "<div>\n",
       "<style scoped>\n",
       "    .dataframe tbody tr th:only-of-type {\n",
       "        vertical-align: middle;\n",
       "    }\n",
       "\n",
       "    .dataframe tbody tr th {\n",
       "        vertical-align: top;\n",
       "    }\n",
       "\n",
       "    .dataframe thead th {\n",
       "        text-align: right;\n",
       "    }\n",
       "</style>\n",
       "<table border=\"1\" class=\"dataframe\">\n",
       "  <thead>\n",
       "    <tr style=\"text-align: right;\">\n",
       "      <th></th>\n",
       "      <th>Age</th>\n",
       "      <th>WorkClass</th>\n",
       "      <th>Education</th>\n",
       "      <th>Gender</th>\n",
       "      <th>CapitalGain</th>\n",
       "      <th>CapitalLoss</th>\n",
       "      <th>HoursPerWeek</th>\n",
       "      <th>Income</th>\n",
       "    </tr>\n",
       "  </thead>\n",
       "  <tbody>\n",
       "    <tr>\n",
       "      <th>0</th>\n",
       "      <td>26</td>\n",
       "      <td>Local-gov</td>\n",
       "      <td>Bachelors</td>\n",
       "      <td>Male</td>\n",
       "      <td>1055</td>\n",
       "      <td>0</td>\n",
       "      <td>40</td>\n",
       "      <td>&lt;=50K</td>\n",
       "    </tr>\n",
       "    <tr>\n",
       "      <th>1</th>\n",
       "      <td>17</td>\n",
       "      <td>?</td>\n",
       "      <td>11th</td>\n",
       "      <td>Male</td>\n",
       "      <td>0</td>\n",
       "      <td>0</td>\n",
       "      <td>40</td>\n",
       "      <td>&lt;=50K</td>\n",
       "    </tr>\n",
       "    <tr>\n",
       "      <th>2</th>\n",
       "      <td>34</td>\n",
       "      <td>Private</td>\n",
       "      <td>HS-grad</td>\n",
       "      <td>Male</td>\n",
       "      <td>0</td>\n",
       "      <td>0</td>\n",
       "      <td>35</td>\n",
       "      <td>&gt;50K</td>\n",
       "    </tr>\n",
       "    <tr>\n",
       "      <th>3</th>\n",
       "      <td>23</td>\n",
       "      <td>Private</td>\n",
       "      <td>HS-grad</td>\n",
       "      <td>Female</td>\n",
       "      <td>0</td>\n",
       "      <td>0</td>\n",
       "      <td>35</td>\n",
       "      <td>&lt;=50K</td>\n",
       "    </tr>\n",
       "    <tr>\n",
       "      <th>4</th>\n",
       "      <td>27</td>\n",
       "      <td>Local-gov</td>\n",
       "      <td>Masters</td>\n",
       "      <td>Male</td>\n",
       "      <td>0</td>\n",
       "      <td>0</td>\n",
       "      <td>35</td>\n",
       "      <td>&lt;=50K</td>\n",
       "    </tr>\n",
       "  </tbody>\n",
       "</table>\n",
       "</div>"
      ],
      "text/plain": [
       "   Age   WorkClass   Education   Gender  CapitalGain  CapitalLoss   \n",
       "0   26   Local-gov   Bachelors     Male         1055            0  \\\n",
       "1   17           ?        11th     Male            0            0   \n",
       "2   34     Private     HS-grad     Male            0            0   \n",
       "3   23     Private     HS-grad   Female            0            0   \n",
       "4   27   Local-gov     Masters     Male            0            0   \n",
       "\n",
       "   HoursPerWeek  Income  \n",
       "0            40   <=50K  \n",
       "1            40   <=50K  \n",
       "2            35    >50K  \n",
       "3            35   <=50K  \n",
       "4            35   <=50K  "
      ]
     },
     "execution_count": 6,
     "metadata": {},
     "output_type": "execute_result"
    }
   ],
   "source": [
    "# base contains the original dataset, which is always included in a challenge\n",
    "cc.challenges[\"base\"].df.head()"
   ]
  },
  {
   "cell_type": "code",
   "execution_count": 7,
   "metadata": {},
   "outputs": [
    {
     "data": {
      "text/html": [
       "<div>\n",
       "<style scoped>\n",
       "    .dataframe tbody tr th:only-of-type {\n",
       "        vertical-align: middle;\n",
       "    }\n",
       "\n",
       "    .dataframe tbody tr th {\n",
       "        vertical-align: top;\n",
       "    }\n",
       "\n",
       "    .dataframe thead th {\n",
       "        text-align: right;\n",
       "    }\n",
       "</style>\n",
       "<table border=\"1\" class=\"dataframe\">\n",
       "  <thead>\n",
       "    <tr style=\"text-align: right;\">\n",
       "      <th></th>\n",
       "      <th>Age</th>\n",
       "      <th>WorkClass</th>\n",
       "      <th>Education</th>\n",
       "      <th>Gender</th>\n",
       "      <th>CapitalGain</th>\n",
       "      <th>CapitalLoss</th>\n",
       "      <th>HoursPerWeek</th>\n",
       "      <th>Income</th>\n",
       "    </tr>\n",
       "  </thead>\n",
       "  <tbody>\n",
       "    <tr>\n",
       "      <th>0</th>\n",
       "      <td>(17.0, 53.5]</td>\n",
       "      <td>Private</td>\n",
       "      <td>5th-6th</td>\n",
       "      <td>Male</td>\n",
       "      <td>0</td>\n",
       "      <td>0</td>\n",
       "      <td>40</td>\n",
       "      <td>&lt;=50K</td>\n",
       "    </tr>\n",
       "    <tr>\n",
       "      <th>1</th>\n",
       "      <td>(17.0, 53.5]</td>\n",
       "      <td>Private</td>\n",
       "      <td>HS-grad</td>\n",
       "      <td>Female</td>\n",
       "      <td>0</td>\n",
       "      <td>0</td>\n",
       "      <td>40</td>\n",
       "      <td>&lt;=50K</td>\n",
       "    </tr>\n",
       "    <tr>\n",
       "      <th>2</th>\n",
       "      <td>(17.0, 53.5]</td>\n",
       "      <td>Private</td>\n",
       "      <td>Assoc-acdm</td>\n",
       "      <td>Female</td>\n",
       "      <td>0</td>\n",
       "      <td>0</td>\n",
       "      <td>36</td>\n",
       "      <td>&lt;=50K</td>\n",
       "    </tr>\n",
       "    <tr>\n",
       "      <th>3</th>\n",
       "      <td>(17.0, 53.5]</td>\n",
       "      <td>Private</td>\n",
       "      <td>HS-grad</td>\n",
       "      <td>Female</td>\n",
       "      <td>0</td>\n",
       "      <td>0</td>\n",
       "      <td>38</td>\n",
       "      <td>&lt;=50K</td>\n",
       "    </tr>\n",
       "    <tr>\n",
       "      <th>4</th>\n",
       "      <td>(17.0, 53.5]</td>\n",
       "      <td>Self-emp-not-inc</td>\n",
       "      <td>Bachelors</td>\n",
       "      <td>Male</td>\n",
       "      <td>0</td>\n",
       "      <td>0</td>\n",
       "      <td>60</td>\n",
       "      <td>&gt;50K</td>\n",
       "    </tr>\n",
       "  </tbody>\n",
       "</table>\n",
       "</div>"
      ],
      "text/plain": [
       "            Age          WorkClass    Education   Gender  CapitalGain   \n",
       "0  (17.0, 53.5]            Private      5th-6th     Male            0  \\\n",
       "1  (17.0, 53.5]            Private      HS-grad   Female            0   \n",
       "2  (17.0, 53.5]            Private   Assoc-acdm   Female            0   \n",
       "3  (17.0, 53.5]            Private      HS-grad   Female            0   \n",
       "4  (17.0, 53.5]   Self-emp-not-inc    Bachelors     Male            0   \n",
       "\n",
       "   CapitalLoss  HoursPerWeek  Income  \n",
       "0            0            40   <=50K  \n",
       "1            0            40   <=50K  \n",
       "2            0            36   <=50K  \n",
       "3            0            38   <=50K  \n",
       "4            0            60    >50K  "
      ]
     },
     "execution_count": 7,
     "metadata": {},
     "output_type": "execute_result"
    }
   ],
   "source": [
    "# an example of a challenge dataset\n",
    "cc.challenges[\"challenge_2\"].df.head()"
   ]
  },
  {
   "cell_type": "code",
   "execution_count": 8,
   "metadata": {},
   "outputs": [],
   "source": [
    "# trains one of our models for each challenge\n",
    "cc.train_models()"
   ]
  },
  {
   "cell_type": "code",
   "execution_count": 9,
   "metadata": {},
   "outputs": [
    {
     "data": {
      "text/plain": [
       "0.8"
      ]
     },
     "execution_count": 9,
     "metadata": {},
     "output_type": "execute_result"
    }
   ],
   "source": [
    "# Evaluate base model\n",
    "_, _, X_test, y_test = cc.challenges[\"base\"].train_test_split()\n",
    "cc.models[\"base\"].score(X_test, y_test)"
   ]
  },
  {
   "cell_type": "code",
   "execution_count": 10,
   "metadata": {},
   "outputs": [
    {
     "data": {
      "text/plain": [
       "0.845"
      ]
     },
     "execution_count": 10,
     "metadata": {},
     "output_type": "execute_result"
    }
   ],
   "source": [
    "# Evaluate a challenge model\n",
    "_, _, X_test, y_test = cc.challenges[\"challenge_2\"].train_test_split()\n",
    "cc.models[\"challenge_2\"].score(X_test, y_test)"
   ]
  },
  {
   "cell_type": "code",
   "execution_count": 15,
   "metadata": {},
   "outputs": [
    {
     "data": {
      "text/plain": [
       "array([[ 1.00000000e+00,  0.00000000e+00,  0.00000000e+00, ...,\n",
       "        -2.28514388e-01, -2.21898312e-01,  1.06785025e-03],\n",
       "       [ 1.00000000e+00,  0.00000000e+00,  0.00000000e+00, ...,\n",
       "        -2.28514388e-01, -2.21898312e-01,  1.06785025e-03],\n",
       "       [ 1.00000000e+00,  0.00000000e+00,  0.00000000e+00, ...,\n",
       "        -2.28514388e-01, -2.21898312e-01, -3.40644231e-01],\n",
       "       ...,\n",
       "       [ 1.00000000e+00,  0.00000000e+00,  0.00000000e+00, ...,\n",
       "        -2.28514388e-01, -2.21898312e-01,  1.70962826e+00],\n",
       "       [ 1.00000000e+00,  0.00000000e+00,  0.00000000e+00, ...,\n",
       "        -2.28514388e-01, -2.21898312e-01,  1.06785025e-03],\n",
       "       [ 1.00000000e+00,  0.00000000e+00,  1.00000000e+00, ...,\n",
       "        -2.28514388e-01, -2.21898312e-01,  1.06785025e-03]])"
      ]
     },
     "execution_count": 15,
     "metadata": {},
     "output_type": "execute_result"
    }
   ],
   "source": [
    "X_train, y_train, X_test, y_test = cc.challenges[\"challenge_2\"].train_test_split()\n",
    "cc.models[\"challenge_2\"].named_steps[\"preprocessor\"].fit_transform(X_train)"
   ]
  },
  {
   "cell_type": "code",
   "execution_count": 23,
   "metadata": {},
   "outputs": [
    {
     "name": "stderr",
     "output_type": "stream",
     "text": [
      "Using 800 background data samples could cause slower run times. Consider using shap.sample(data, K) or shap.kmeans(data, K) to summarize the background as K samples.\n"
     ]
    },
    {
     "data": {
      "application/vnd.jupyter.widget-view+json": {
       "model_id": "8cc8219e30ff4a34bd028468db7b3684",
       "version_major": 2,
       "version_minor": 0
      },
      "text/plain": [
       "  0%|          | 0/5 [00:00<?, ?it/s]"
      ]
     },
     "metadata": {},
     "output_type": "display_data"
    }
   ],
   "source": [
    "from sklearn.preprocessing import LabelEncoder\n",
    "\n",
    "X_train, y_train, X_test, y_test = cc.challenges[\"challenge_2\"].train_test_split()\n",
    "\n",
    "# Note that we have to use a labelencoder for interpretml, as it doesn't like string labels even though sklearn handles them\n",
    "label_encoder = LabelEncoder().fit(y_train)\n",
    "# similarly, we need to explicitly apply the preprocessor\n",
    "pp = cc.models[\"challenge_2\"].named_steps[\"preprocessor\"]\n",
    "\n",
    "shap = ShapKernel(cc.models[\"challenge_2\"].named_steps[\"model\"], pp.transform(X_train))\n",
    "shap_local = shap.explain_local(pp.transform(X_test[:5]), label_encoder.transform(y_test[:5]))"
   ]
  },
  {
   "attachments": {
    "image.png": {
     "image/png": "[encoded data removed]"
    }
   },
   "cell_type": "markdown",
   "metadata": {},
   "source": [
    "![image.png](attachment:image.png)"
   ]
  },
  {
   "attachments": {
    "image2.png": {
     "image/png": "[encoded data removed]"
    }
   },
   "cell_type": "markdown",
   "metadata": {},
   "source": [
    "![image2.png](attachment:image2.png)"
   ]
  },
  {
   "cell_type": "markdown",
   "metadata": {},
   "source": []
  },
  {
   "cell_type": "code",
   "execution_count": 24,
   "metadata": {},
   "outputs": [
    {
     "data": {
      "text/html": [
       "<!-- http://127.0.0.1:7001/2686571409040/ -->\n",
       "<iframe src=\"http://127.0.0.1:7001/2686571409040/\" width=100% height=800 frameBorder=\"0\"></iframe>"
      ]
     },
     "metadata": {},
     "output_type": "display_data"
    }
   ],
   "source": [
    "from interpret import show\n",
    "show(shap_local, 0)"
   ]
  },
  {
   "cell_type": "markdown",
   "metadata": {},
   "source": [
    "# Custom Challenger"
   ]
  },
  {
   "cell_type": "code",
   "execution_count": 25,
   "metadata": {},
   "outputs": [],
   "source": [
    "# a custom challenger only needs to implement the `generate_challenges` method\n",
    "\n",
    "class CustomChallenger(SKChallenger):\n",
    "\n",
    "    def generate_challenges(self) -> None:\n",
    "        \"\"\"\n",
    "        Generate multiple challenges, each of which consists of duplicating one feature.\n",
    "        \"\"\"\n",
    "\n",
    "        for i in range(2, 5):\n",
    "            name = f\"challenge_{i}\"\n",
    "            sm = StructuredManipulator(self.df, self.label_column, self.random_state)\n",
    "            sm.duplicate_features()  # randomly picks a column to duplicate\n",
    "            self.challenges[name] = sm"
   ]
  },
  {
   "cell_type": "code",
   "execution_count": 30,
   "metadata": {},
   "outputs": [
    {
     "name": "stdout",
     "output_type": "stream",
     "text": [
      "0.81\n",
      "0.815\n"
     ]
    }
   ],
   "source": [
    "custom_challenger = CustomChallenger(DecisionTreeClassifier(max_depth=3), df, label_column)\n",
    "custom_challenger.generate_challenges()\n",
    "custom_challenger.train_models()\n",
    "\n",
    "# Evaluate base model\n",
    "_, _, X_test, y_test = custom_challenger.challenges[\"base\"].train_test_split()\n",
    "print(custom_challenger.models[\"base\"].score(X_test, y_test))\n",
    "\n",
    "# Evaluate a challenge model\n",
    "_, _, X_test, y_test = custom_challenger.challenges[\"challenge_2\"].train_test_split()\n",
    "print(custom_challenger.models[\"challenge_2\"].score(X_test, y_test))"
   ]
  },
  {
   "cell_type": "markdown",
   "metadata": {},
   "source": []
  }
 ],
 "metadata": {
  "kernelspec": {
   "display_name": "Python 3 (ipykernel)",
   "language": "python",
   "name": "python3"
  },
  "language_info": {
   "codemirror_mode": {
    "name": "ipython",
    "version": 3
   },
   "file_extension": ".py",
   "mimetype": "text/x-python",
   "name": "python",
   "nbconvert_exporter": "python",
   "pygments_lexer": "ipython3",
   "version": "3.10.7"
  }
 },
 "nbformat": 4,
 "nbformat_minor": 1
}
