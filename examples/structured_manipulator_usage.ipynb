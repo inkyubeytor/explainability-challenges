{
 "cells": [
  {
   "cell_type": "code",
   "execution_count": 1,
   "metadata": {
    "collapsed": true
   },
   "outputs": [],
   "source": [
    "from explainability.structured.core.structured_manipulator import StructuredManipulator\n",
    "import pandas as pd"
   ]
  },
  {
   "cell_type": "code",
   "execution_count": 2,
   "outputs": [],
   "source": [
    "# Load adult income dataset, 100 rows\n",
    "df = pd.read_csv(\"https://archive.ics.uci.edu/ml/machine-learning-databases/adult/adult.data\", header=None, nrows=100)\n",
    "df.columns = [\n",
    "    \"Age\", \"WorkClass\", \"fnlwgt\", \"Education\", \"EducationNum\",\n",
    "    \"MaritalStatus\", \"Occupation\", \"Relationship\", \"Race\", \"Gender\",\n",
    "    \"CapitalGain\", \"CapitalLoss\", \"HoursPerWeek\", \"NativeCountry\",\n",
    "    \"Income\"\n",
    "]\n",
    "df.drop([\n",
    "    \"fnlwgt\", \"EducationNum\",\n",
    "    \"MaritalStatus\", \"Occupation\", \"Relationship\", \"Race\",\n",
    "    \"NativeCountry\"\n",
    "], axis=1, inplace=True)\n",
    "label_column = \"Income\""
   ],
   "metadata": {
    "collapsed": false
   }
  },
  {
   "cell_type": "code",
   "execution_count": 3,
   "outputs": [
    {
     "data": {
      "text/plain": "   Age     WorkClass    Education   Gender  CapitalGain  CapitalLoss   \n0   48       Private   Assoc-acdm   Female            0            0  \\\n1   32   Federal-gov      HS-grad     Male            0            0   \n2   40       Private    Doctorate     Male            0            0   \n3   31     Local-gov      7th-8th     Male            0            0   \n4   34     Local-gov    Bachelors     Male            0            0   \n\n   HoursPerWeek  Income  \n0            40   <=50K  \n1            40   <=50K  \n2            60    >50K  \n3            40   <=50K  \n4            40    >50K  ",
      "text/html": "<div>\n<style scoped>\n    .dataframe tbody tr th:only-of-type {\n        vertical-align: middle;\n    }\n\n    .dataframe tbody tr th {\n        vertical-align: top;\n    }\n\n    .dataframe thead th {\n        text-align: right;\n    }\n</style>\n<table border=\"1\" class=\"dataframe\">\n  <thead>\n    <tr style=\"text-align: right;\">\n      <th></th>\n      <th>Age</th>\n      <th>WorkClass</th>\n      <th>Education</th>\n      <th>Gender</th>\n      <th>CapitalGain</th>\n      <th>CapitalLoss</th>\n      <th>HoursPerWeek</th>\n      <th>Income</th>\n    </tr>\n  </thead>\n  <tbody>\n    <tr>\n      <th>0</th>\n      <td>48</td>\n      <td>Private</td>\n      <td>Assoc-acdm</td>\n      <td>Female</td>\n      <td>0</td>\n      <td>0</td>\n      <td>40</td>\n      <td>&lt;=50K</td>\n    </tr>\n    <tr>\n      <th>1</th>\n      <td>32</td>\n      <td>Federal-gov</td>\n      <td>HS-grad</td>\n      <td>Male</td>\n      <td>0</td>\n      <td>0</td>\n      <td>40</td>\n      <td>&lt;=50K</td>\n    </tr>\n    <tr>\n      <th>2</th>\n      <td>40</td>\n      <td>Private</td>\n      <td>Doctorate</td>\n      <td>Male</td>\n      <td>0</td>\n      <td>0</td>\n      <td>60</td>\n      <td>&gt;50K</td>\n    </tr>\n    <tr>\n      <th>3</th>\n      <td>31</td>\n      <td>Local-gov</td>\n      <td>7th-8th</td>\n      <td>Male</td>\n      <td>0</td>\n      <td>0</td>\n      <td>40</td>\n      <td>&lt;=50K</td>\n    </tr>\n    <tr>\n      <th>4</th>\n      <td>34</td>\n      <td>Local-gov</td>\n      <td>Bachelors</td>\n      <td>Male</td>\n      <td>0</td>\n      <td>0</td>\n      <td>40</td>\n      <td>&gt;50K</td>\n    </tr>\n  </tbody>\n</table>\n</div>"
     },
     "execution_count": 3,
     "metadata": {},
     "output_type": "execute_result"
    }
   ],
   "source": [
    "# Create a new structured manipulator\n",
    "sm = StructuredManipulator(df, label_column)\n",
    "# view data\n",
    "sm.df.head()"
   ],
   "metadata": {
    "collapsed": false
   }
  },
  {
   "cell_type": "code",
   "execution_count": 4,
   "outputs": [
    {
     "data": {
      "text/plain": "   Age     WorkClass    Education   Gender  CapitalGain  CapitalLoss   \n0   48       Private   Assoc-acdm   Female            0            0  \\\n1   32   Federal-gov      HS-grad     Male            0            0   \n2   40       Private    Doctorate     Male            0            0   \n3   31     Local-gov      7th-8th     Male            0            0   \n4   34     Local-gov    Bachelors     Male            0            0   \n\n   HoursPerWeek  Income  Age_cat  Age_replace  \n0            40   <=50K       48           48  \n1            40   <=50K       32           32  \n2            60    >50K       40           40  \n3            40   <=50K       31           31  \n4            40    >50K       34           34  ",
      "text/html": "<div>\n<style scoped>\n    .dataframe tbody tr th:only-of-type {\n        vertical-align: middle;\n    }\n\n    .dataframe tbody tr th {\n        vertical-align: top;\n    }\n\n    .dataframe thead th {\n        text-align: right;\n    }\n</style>\n<table border=\"1\" class=\"dataframe\">\n  <thead>\n    <tr style=\"text-align: right;\">\n      <th></th>\n      <th>Age</th>\n      <th>WorkClass</th>\n      <th>Education</th>\n      <th>Gender</th>\n      <th>CapitalGain</th>\n      <th>CapitalLoss</th>\n      <th>HoursPerWeek</th>\n      <th>Income</th>\n      <th>Age_cat</th>\n      <th>Age_replace</th>\n    </tr>\n  </thead>\n  <tbody>\n    <tr>\n      <th>0</th>\n      <td>48</td>\n      <td>Private</td>\n      <td>Assoc-acdm</td>\n      <td>Female</td>\n      <td>0</td>\n      <td>0</td>\n      <td>40</td>\n      <td>&lt;=50K</td>\n      <td>48</td>\n      <td>48</td>\n    </tr>\n    <tr>\n      <th>1</th>\n      <td>32</td>\n      <td>Federal-gov</td>\n      <td>HS-grad</td>\n      <td>Male</td>\n      <td>0</td>\n      <td>0</td>\n      <td>40</td>\n      <td>&lt;=50K</td>\n      <td>32</td>\n      <td>32</td>\n    </tr>\n    <tr>\n      <th>2</th>\n      <td>40</td>\n      <td>Private</td>\n      <td>Doctorate</td>\n      <td>Male</td>\n      <td>0</td>\n      <td>0</td>\n      <td>60</td>\n      <td>&gt;50K</td>\n      <td>40</td>\n      <td>40</td>\n    </tr>\n    <tr>\n      <th>3</th>\n      <td>31</td>\n      <td>Local-gov</td>\n      <td>7th-8th</td>\n      <td>Male</td>\n      <td>0</td>\n      <td>0</td>\n      <td>40</td>\n      <td>&lt;=50K</td>\n      <td>31</td>\n      <td>31</td>\n    </tr>\n    <tr>\n      <th>4</th>\n      <td>34</td>\n      <td>Local-gov</td>\n      <td>Bachelors</td>\n      <td>Male</td>\n      <td>0</td>\n      <td>0</td>\n      <td>40</td>\n      <td>&gt;50K</td>\n      <td>34</td>\n      <td>34</td>\n    </tr>\n  </tbody>\n</table>\n</div>"
     },
     "execution_count": 4,
     "metadata": {},
     "output_type": "execute_result"
    }
   ],
   "source": [
    "sm.duplicate_features(column=\"Age\", num_dups=2, dup_col_names=[\"Age_cat\", \"Age_replace\"])\n",
    "sm.df.head()"
   ],
   "metadata": {
    "collapsed": false
   }
  },
  {
   "cell_type": "code",
   "execution_count": 5,
   "outputs": [
    {
     "data": {
      "text/plain": "   Age     WorkClass    Education   Gender  CapitalGain  CapitalLoss   \n0   48       Private   Assoc-acdm   Female            0            0  \\\n1   32   Federal-gov      HS-grad     Male            0            0   \n2   40       Private    Doctorate     Male            0            0   \n3   31     Local-gov      7th-8th     Male            0            0   \n4   34     Local-gov    Bachelors     Male            0            0   \n\n   HoursPerWeek  Income       Age_cat  Age_replace  \n0            40   <=50K  (18.0, 48.5]        48.00  \n1            40   <=50K  (18.0, 48.5]        32.00  \n2            60    >50K  (18.0, 48.5]        38.39  \n3            40   <=50K  (18.0, 48.5]        31.00  \n4            40    >50K  (18.0, 48.5]        38.39  ",
      "text/html": "<div>\n<style scoped>\n    .dataframe tbody tr th:only-of-type {\n        vertical-align: middle;\n    }\n\n    .dataframe tbody tr th {\n        vertical-align: top;\n    }\n\n    .dataframe thead th {\n        text-align: right;\n    }\n</style>\n<table border=\"1\" class=\"dataframe\">\n  <thead>\n    <tr style=\"text-align: right;\">\n      <th></th>\n      <th>Age</th>\n      <th>WorkClass</th>\n      <th>Education</th>\n      <th>Gender</th>\n      <th>CapitalGain</th>\n      <th>CapitalLoss</th>\n      <th>HoursPerWeek</th>\n      <th>Income</th>\n      <th>Age_cat</th>\n      <th>Age_replace</th>\n    </tr>\n  </thead>\n  <tbody>\n    <tr>\n      <th>0</th>\n      <td>48</td>\n      <td>Private</td>\n      <td>Assoc-acdm</td>\n      <td>Female</td>\n      <td>0</td>\n      <td>0</td>\n      <td>40</td>\n      <td>&lt;=50K</td>\n      <td>(18.0, 48.5]</td>\n      <td>48.00</td>\n    </tr>\n    <tr>\n      <th>1</th>\n      <td>32</td>\n      <td>Federal-gov</td>\n      <td>HS-grad</td>\n      <td>Male</td>\n      <td>0</td>\n      <td>0</td>\n      <td>40</td>\n      <td>&lt;=50K</td>\n      <td>(18.0, 48.5]</td>\n      <td>32.00</td>\n    </tr>\n    <tr>\n      <th>2</th>\n      <td>40</td>\n      <td>Private</td>\n      <td>Doctorate</td>\n      <td>Male</td>\n      <td>0</td>\n      <td>0</td>\n      <td>60</td>\n      <td>&gt;50K</td>\n      <td>(18.0, 48.5]</td>\n      <td>38.39</td>\n    </tr>\n    <tr>\n      <th>3</th>\n      <td>31</td>\n      <td>Local-gov</td>\n      <td>7th-8th</td>\n      <td>Male</td>\n      <td>0</td>\n      <td>0</td>\n      <td>40</td>\n      <td>&lt;=50K</td>\n      <td>(18.0, 48.5]</td>\n      <td>31.00</td>\n    </tr>\n    <tr>\n      <th>4</th>\n      <td>34</td>\n      <td>Local-gov</td>\n      <td>Bachelors</td>\n      <td>Male</td>\n      <td>0</td>\n      <td>0</td>\n      <td>40</td>\n      <td>&gt;50K</td>\n      <td>(18.0, 48.5]</td>\n      <td>38.39</td>\n    </tr>\n  </tbody>\n</table>\n</div>"
     },
     "execution_count": 5,
     "metadata": {},
     "output_type": "execute_result"
    }
   ],
   "source": [
    "# Commands can also be chained\n",
    "sm \\\n",
    "    .categorize(column=\"Age_cat\") \\\n",
    "    .replace_random_values(column=\"Age_replace\", proportion=0.9)\n",
    "\n",
    "sm.df.head()"
   ],
   "metadata": {
    "collapsed": false
   }
  },
  {
   "cell_type": "code",
   "execution_count": 6,
   "outputs": [
    {
     "data": {
      "text/plain": "   Age     WorkClass    Education Gender  CapitalGain  CapitalLoss   \n0   48       Private   Assoc-acdm      M            0            0  \\\n1   32   Federal-gov      HS-grad      M            0            0   \n2   40       Private    Doctorate      M            0            0   \n3   31     Local-gov      7th-8th   Male            0            0   \n4   34     Local-gov    Bachelors      M            0            0   \n\n   HoursPerWeek  Income       Age_cat  Age_replace  \n0            40   <=50K  (18.0, 48.5]        48.00  \n1            40   <=50K  (18.0, 48.5]        32.00  \n2            60    >50K  (18.0, 48.5]        38.39  \n3            40   <=50K  (18.0, 48.5]        31.00  \n4            40    >50K  (18.0, 48.5]        38.39  ",
      "text/html": "<div>\n<style scoped>\n    .dataframe tbody tr th:only-of-type {\n        vertical-align: middle;\n    }\n\n    .dataframe tbody tr th {\n        vertical-align: top;\n    }\n\n    .dataframe thead th {\n        text-align: right;\n    }\n</style>\n<table border=\"1\" class=\"dataframe\">\n  <thead>\n    <tr style=\"text-align: right;\">\n      <th></th>\n      <th>Age</th>\n      <th>WorkClass</th>\n      <th>Education</th>\n      <th>Gender</th>\n      <th>CapitalGain</th>\n      <th>CapitalLoss</th>\n      <th>HoursPerWeek</th>\n      <th>Income</th>\n      <th>Age_cat</th>\n      <th>Age_replace</th>\n    </tr>\n  </thead>\n  <tbody>\n    <tr>\n      <th>0</th>\n      <td>48</td>\n      <td>Private</td>\n      <td>Assoc-acdm</td>\n      <td>M</td>\n      <td>0</td>\n      <td>0</td>\n      <td>40</td>\n      <td>&lt;=50K</td>\n      <td>(18.0, 48.5]</td>\n      <td>48.00</td>\n    </tr>\n    <tr>\n      <th>1</th>\n      <td>32</td>\n      <td>Federal-gov</td>\n      <td>HS-grad</td>\n      <td>M</td>\n      <td>0</td>\n      <td>0</td>\n      <td>40</td>\n      <td>&lt;=50K</td>\n      <td>(18.0, 48.5]</td>\n      <td>32.00</td>\n    </tr>\n    <tr>\n      <th>2</th>\n      <td>40</td>\n      <td>Private</td>\n      <td>Doctorate</td>\n      <td>M</td>\n      <td>0</td>\n      <td>0</td>\n      <td>60</td>\n      <td>&gt;50K</td>\n      <td>(18.0, 48.5]</td>\n      <td>38.39</td>\n    </tr>\n    <tr>\n      <th>3</th>\n      <td>31</td>\n      <td>Local-gov</td>\n      <td>7th-8th</td>\n      <td>Male</td>\n      <td>0</td>\n      <td>0</td>\n      <td>40</td>\n      <td>&lt;=50K</td>\n      <td>(18.0, 48.5]</td>\n      <td>31.00</td>\n    </tr>\n    <tr>\n      <th>4</th>\n      <td>34</td>\n      <td>Local-gov</td>\n      <td>Bachelors</td>\n      <td>M</td>\n      <td>0</td>\n      <td>0</td>\n      <td>40</td>\n      <td>&gt;50K</td>\n      <td>(18.0, 48.5]</td>\n      <td>38.39</td>\n    </tr>\n  </tbody>\n</table>\n</div>"
     },
     "execution_count": 6,
     "metadata": {},
     "output_type": "execute_result"
    }
   ],
   "source": [
    "sm.split_category_value(column=\"Gender\", dup_value=\" Male\", new_value=\"M\", proportion=0.75)\n",
    "sm.df.head()"
   ],
   "metadata": {
    "collapsed": false
   }
  },
  {
   "cell_type": "code",
   "execution_count": 7,
   "outputs": [
    {
     "name": "stdout",
     "output_type": "stream",
     "text": [
      "\n",
      "duplicate_features\n",
      "{'column': 'Age', 'dup_col_names': ['Age_cat', 'Age_replace'], 'num_dups': 2}\n",
      "\n",
      "\n",
      "categorize\n",
      "{'bin_names': [(18.0, 48.5], (48.5, 79.0]]\n",
      "Categories (2, interval[float64, right]): [(18.0, 48.5] < (48.5, 79.0]],\n",
      " 'bins': array([18. , 48.5, 79. ]),\n",
      " 'column': 'Age_cat',\n",
      " 'num_bins': 2}\n",
      "\n",
      "\n",
      "replace_random_values\n",
      "{'column': 'Age_replace', 'proportion': 0.5, 'value': 38.39}\n",
      "\n",
      "\n",
      "split_category_value\n",
      "{'column': 'Gender', 'dup_value': ' Male', 'new_value': 'M'}\n",
      "\n"
     ]
    }
   ],
   "source": [
    "# View list of performed operations\n",
    "print(sm.trace)"
   ],
   "metadata": {
    "collapsed": false
   }
  },
  {
   "cell_type": "code",
   "execution_count": 8,
   "outputs": [
    {
     "data": {
      "text/plain": "(110.3375, 0.0)"
     },
     "execution_count": 8,
     "metadata": {},
     "output_type": "execute_result"
    }
   ],
   "source": [
    "# The train-test split respects the sort operation, allowing for different feature distributions in train and test\n",
    "sm.sort_values(column=\"CapitalLoss\", ascending=False)\n",
    "X_train, y_train, X_test, y_test = sm.train_test_split()\n",
    "X_train[\"CapitalLoss\"].mean(), X_test[\"CapitalLoss\"].mean()"
   ],
   "metadata": {
    "collapsed": false
   }
  }
 ],
 "metadata": {
  "kernelspec": {
   "display_name": "Python 3",
   "language": "python",
   "name": "python3"
  },
  "language_info": {
   "codemirror_mode": {
    "name": "ipython",
    "version": 2
   },
   "file_extension": ".py",
   "mimetype": "text/x-python",
   "name": "python",
   "nbconvert_exporter": "python",
   "pygments_lexer": "ipython2",
   "version": "2.7.6"
  }
 },
 "nbformat": 4,
 "nbformat_minor": 0
}
